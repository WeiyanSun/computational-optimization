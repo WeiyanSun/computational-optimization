{
 "cells": [
  {
   "cell_type": "code",
   "execution_count": 1,
   "metadata": {
    "collapsed": true
   },
   "outputs": [],
   "source": [
    "import pdb\n",
    "import re\n",
    "import json\n",
    "import cPickle as pickle\n",
    "import pandas as pd\n",
    "\n",
    "\n",
    "use=pd.read_csv('movie_metadata_new.csv')"
   ]
  },
  {
   "cell_type": "code",
   "execution_count": 2,
   "metadata": {
    "collapsed": false,
    "scrolled": false
   },
   "outputs": [
    {
     "name": "stderr",
     "output_type": "stream",
     "text": [
      "/Users/weiyansun/anaconda/envs/python2/lib/python2.7/site-packages/matplotlib/font_manager.py:273: UserWarning:\n",
      "\n",
      "Matplotlib is building the font cache using fc-list. This may take a moment.\n",
      "\n"
     ]
    }
   ],
   "source": [
    "import plotly.plotly as py\n",
    "from plotly.graph_objs import *\n",
    "py.sign_in('victor0864', 'vcylwa9oco')"
   ]
  },
  {
   "cell_type": "code",
   "execution_count": 3,
   "metadata": {
    "collapsed": false,
    "scrolled": false
   },
   "outputs": [],
   "source": [
    "most_country=use.groupby('country').count().sort_values(by='color',ascending=False).index[0:10]"
   ]
  },
  {
   "cell_type": "code",
   "execution_count": 4,
   "metadata": {
    "collapsed": false
   },
   "outputs": [],
   "source": [
    "final_use=use[use.country.isin(most_country)]"
   ]
  },
  {
   "cell_type": "code",
   "execution_count": 5,
   "metadata": {
    "collapsed": true
   },
   "outputs": [],
   "source": [
    "color_pattern=[\"0x007D34\", \"0xF6768E\",\"0x00538A\",\"0xFF7A5C\",\"0x53377A\",\"0xB32851\",\"0xF4C800\",\"0x93AA00\",\"0x593315\",\"0xF13A13\"]"
   ]
  },
  {
   "cell_type": "code",
   "execution_count": 6,
   "metadata": {
    "collapsed": false,
    "scrolled": true
   },
   "outputs": [],
   "source": [
    "data=[]\n",
    "for i in range(10):\n",
    "    cur_use=final_use[final_use.country==most_country[i]]\n",
    "    trace1 = Scatter3d(\n",
    "        x=cur_use['country'].values,\n",
    "        y=cur_use['imdb_score'].values,\n",
    "        z=cur_use['gross'].values,\n",
    "        marker=Marker(\n",
    "            color=color_pattern[i],\n",
    "            opacity=0.5,\n",
    "            size=5\n",
    "        ),text=cur_use.movie_title,\n",
    "        mode='markers',name=cur_use['country'].values[0]\n",
    "    )\n",
    "    data.append(trace1)\n"
   ]
  },
  {
   "cell_type": "code",
   "execution_count": 8,
   "metadata": {
    "collapsed": false
   },
   "outputs": [],
   "source": [
    "layout = Layout(scene=Scene(xaxis=XAxis(autorange=True,title='Country'),\n",
    "                            yaxis=YAxis(autorange=True,title='Imdb score',zeroline=False),zaxis=ZAxis(title='Gross')))"
   ]
  },
  {
   "cell_type": "code",
   "execution_count": 10,
   "metadata": {
    "collapsed": false
   },
   "outputs": [
    {
     "data": {
      "text/plain": [
       "u'https://plot.ly/~victor0864/124'"
      ]
     },
     "execution_count": 10,
     "metadata": {},
     "output_type": "execute_result"
    }
   ],
   "source": [
    "fig = Figure(data=Data(data),layout=layout)\n",
    "py.plot(fig,filename='gross_country_rating')"
   ]
  },
  {
   "cell_type": "code",
   "execution_count": 94,
   "metadata": {
    "collapsed": false,
    "scrolled": true
   },
   "outputs": [
    {
     "name": "stderr",
     "output_type": "stream",
     "text": [
      "/Users/weiyansun/anaconda/envs/python2/lib/python2.7/site-packages/ipykernel/__main__.py:2: SettingWithCopyWarning:\n",
      "\n",
      "\n",
      "A value is trying to be set on a copy of a slice from a DataFrame\n",
      "\n",
      "See the caveats in the documentation: http://pandas.pydata.org/pandas-docs/stable/indexing.html#indexing-view-versus-copy\n",
      "\n"
     ]
    }
   ],
   "source": [
    "sec_use=use[['movie_title','imdb_score','gross','cast_total_facebook_likes']]\n",
    "sec_use.dropna(inplace=True)"
   ]
  },
  {
   "cell_type": "code",
   "execution_count": 152,
   "metadata": {
    "collapsed": false,
    "scrolled": false
   },
   "outputs": [
    {
     "data": {
      "text/html": [
       "<iframe id=\"igraph\" scrolling=\"no\" style=\"border:none;\" seamless=\"seamless\" src=\"https://plot.ly/~victor0864/168.embed\" height=\"525px\" width=\"100%\"></iframe>"
      ],
      "text/plain": [
       "<plotly.tools.PlotlyDisplay object>"
      ]
     },
     "execution_count": 152,
     "metadata": {},
     "output_type": "execute_result"
    }
   ],
   "source": [
    "data = [\n",
    "    Histogram(\n",
    "        x=sec_use['imdb_score'],\n",
    "        opacity=0.75,\n",
    "        marker=Marker(\n",
    "        line=Line(\n",
    "            color='rgb(255, 255, 255)',\n",
    "            width=0.5\n",
    "        )\n",
    "    )\n",
    "        )\n",
    "        ]\n",
    "layout=Layout(title ='Histogram of IMDB scores',xaxis = dict(title = 'imdb scores'),yaxis = dict(title = 'count'))\n",
    "fig = Figure(data=Data(data),layout=layout)\n",
    "\n",
    "py.iplot(fig,filename='Hist_scores')"
   ]
  },
  {
   "cell_type": "code",
   "execution_count": 151,
   "metadata": {
    "collapsed": false
   },
   "outputs": [
    {
     "data": {
      "text/html": [
       "<iframe id=\"igraph\" scrolling=\"no\" style=\"border:none;\" seamless=\"seamless\" src=\"https://plot.ly/~victor0864/166.embed\" height=\"525px\" width=\"100%\"></iframe>"
      ],
      "text/plain": [
       "<plotly.tools.PlotlyDisplay object>"
      ]
     },
     "execution_count": 151,
     "metadata": {},
     "output_type": "execute_result"
    }
   ],
   "source": [
    "# <=5 pleasant\n",
    "# <=6.5 good\n",
    "# <=7.5 very godd\n",
    "# <=8.5 wonderful\n",
    "# <=10 excellent\n",
    "\n",
    "sec_use\n",
    "data = Data([\n",
    "    Scatter(\n",
    "        x=sec_use['cast_total_facebook_likes'],\n",
    "            y=sec_use['gross'],opacity=0.8,text=sec_use.movie_title,\n",
    "            marker=Marker(\n",
    "                color=sec_use['imdb_score'],\n",
    "            colorbar=ColorBar(\n",
    "                title='imdb score'\n",
    "            ),colorscale='Viridis'\n",
    "                ),\n",
    "            mode='markers'\n",
    "            )\n",
    "        ])\n",
    "\n",
    "layout=Layout(title ='FB Likes and Gross',xaxis = dict(title = 'Cast total Facebook Likes'),yaxis = dict(title = 'Gross'))\n",
    "\n",
    "fig = Figure(data=data,layout=layout)\n",
    "\n",
    "py.iplot(fig,filename='FB_likes_and_gross')"
   ]
  },
  {
   "cell_type": "code",
   "execution_count": 113,
   "metadata": {
    "collapsed": false
   },
   "outputs": [],
   "source": [
    "sec_use=sec_use[(sec_use.movie_title!='The Jungle Book') & (sec_use.cast_total_facebook_likes<=200000)]"
   ]
  },
  {
   "cell_type": "code",
   "execution_count": 122,
   "metadata": {
    "collapsed": false,
    "scrolled": true
   },
   "outputs": [],
   "source": [
    "temp=use.groupby('title_year').count()"
   ]
  },
  {
   "cell_type": "code",
   "execution_count": 123,
   "metadata": {
    "collapsed": false
   },
   "outputs": [
    {
     "data": {
      "text/plain": [
       "Float64Index([1916.0, 1920.0, 1925.0, 1927.0, 1929.0, 1930.0, 1932.0, 1933.0,\n",
       "              1934.0, 1935.0, 1936.0, 1937.0, 1938.0, 1939.0, 1940.0, 1941.0,\n",
       "              1942.0, 1943.0, 1944.0, 1945.0, 1946.0, 1947.0, 1948.0, 1949.0,\n",
       "              1950.0, 1951.0, 1952.0, 1953.0, 1954.0, 1955.0, 1956.0, 1957.0,\n",
       "              1958.0, 1959.0, 1960.0, 1961.0, 1962.0, 1963.0, 1964.0, 1965.0,\n",
       "              1966.0, 1967.0, 1968.0, 1969.0, 1970.0, 1971.0, 1972.0, 1973.0,\n",
       "              1974.0, 1975.0, 1976.0, 1977.0, 1978.0, 1979.0, 1980.0, 1981.0,\n",
       "              1982.0, 1983.0, 1984.0, 1985.0, 1986.0, 1987.0, 1988.0, 1989.0,\n",
       "              1990.0, 1991.0, 1992.0, 1993.0, 1994.0, 1995.0, 1996.0, 1997.0,\n",
       "              1998.0, 1999.0, 2000.0, 2001.0, 2002.0, 2003.0, 2004.0, 2005.0,\n",
       "              2006.0, 2007.0, 2008.0, 2009.0, 2010.0, 2011.0, 2012.0, 2013.0,\n",
       "              2014.0, 2015.0, 2016.0],\n",
       "             dtype='float64', name=u'title_year')"
      ]
     },
     "execution_count": 123,
     "metadata": {},
     "output_type": "execute_result"
    }
   ],
   "source": [
    "temp.index"
   ]
  },
  {
   "cell_type": "code",
   "execution_count": 148,
   "metadata": {
    "collapsed": false
   },
   "outputs": [
    {
     "data": {
      "text/html": [
       "<iframe id=\"igraph\" scrolling=\"no\" style=\"border:none;\" seamless=\"seamless\" src=\"https://plot.ly/~victor0864/164.embed\" height=\"525px\" width=\"100%\"></iframe>"
      ],
      "text/plain": [
       "<plotly.tools.PlotlyDisplay object>"
      ]
     },
     "execution_count": 148,
     "metadata": {},
     "output_type": "execute_result"
    }
   ],
   "source": [
    "trace = Scatter(\n",
    "    x = temp.index,\n",
    "    y = temp.color,mode = 'lines+markers'\n",
    ")\n",
    "\n",
    "layout = Layout(title ='Year and Movies',xaxis = dict(title = 'Year'),yaxis = dict(title = 'count'),\n",
    "                annotations=[dict(\n",
    "            x=2009,\n",
    "            y=259,\n",
    "            xref='x',\n",
    "            yref='y',\n",
    "            text='peak',\n",
    "            showarrow=True,\n",
    "            arrowhead=2,\n",
    "            ax=20,\n",
    "            ay=-30)],\n",
    "                shapes=[\n",
    "        {\n",
    "            'type': 'line',\n",
    "            'x0': 1992,\n",
    "            'y0': 0,\n",
    "            'x1': 1992,\n",
    "            'y1': 260,\n",
    "            'line': {'color': 'rgb(204, 204, 0)','width': 1,'dash': 'dashdot'}},\n",
    "        {\n",
    "            'type': 'line',\n",
    "            'x0': 2002,\n",
    "            'y0': 0,\n",
    "            'x1': 2002,\n",
    "            'y1': 260,\n",
    "            'line': {'color': 'rgb(204, 204, 0)','width': 1,'dash': 'dashdot'}}])\n",
    "\n",
    "figure = Figure(data=[trace], layout=layout)\n",
    "\n",
    "py.iplot(figure, filename='line-mode')"
   ]
  },
  {
   "cell_type": "code",
   "execution_count": null,
   "metadata": {
    "collapsed": true
   },
   "outputs": [],
   "source": []
  }
 ],
 "metadata": {
  "anaconda-cloud": {},
  "kernelspec": {
   "display_name": "Python [python2]",
   "language": "python",
   "name": "Python [python2]"
  },
  "language_info": {
   "codemirror_mode": {
    "name": "ipython",
    "version": 2
   },
   "file_extension": ".py",
   "mimetype": "text/x-python",
   "name": "python",
   "nbconvert_exporter": "python",
   "pygments_lexer": "ipython2",
   "version": "2.7.12"
  }
 },
 "nbformat": 4,
 "nbformat_minor": 0
}
