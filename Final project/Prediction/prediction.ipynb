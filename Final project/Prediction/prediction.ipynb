{
 "cells": [
  {
   "cell_type": "code",
   "execution_count": 5,
   "metadata": {
    "collapsed": false
   },
   "outputs": [],
   "source": [
    "import numpy as np\n",
    "import pandas as pd\n",
    "from sklearn.preprocessing import Imputer,StandardScaler\n",
    "from scipy.stats.stats import pearsonr\n",
    "from sklearn.feature_selection import SelectKBest,SelectPercentile,RFE,RFECV,SelectFromModel\n",
    "from sklearn.svm import SVR,SVC\n",
    "from sklearn.linear_model import Lasso\n",
    "from sklearn.svm import LinearSVR\n",
    "from sklearn.cross_validation import train_test_split\n",
    "from sklearn.neighbors import KNeighborsRegressor\n",
    "from sklearn.metrics import mean_absolute_error\n",
    "from sklearn.metrics import r2_score\n",
    "import seaborn as sns\n",
    "import re\n",
    "import matplotlib.pyplot as plt\n",
    "import matplotlib\n",
    "%matplotlib inline\n"
   ]
  },
  {
   "cell_type": "code",
   "execution_count": 6,
   "metadata": {
    "collapsed": false
   },
   "outputs": [
    {
     "data": {
      "text/html": [
       "<div>\n",
       "<table border=\"1\" class=\"dataframe\">\n",
       "  <thead>\n",
       "    <tr style=\"text-align: right;\">\n",
       "      <th></th>\n",
       "      <th>color</th>\n",
       "      <th>director_name</th>\n",
       "      <th>num_critic_for_reviews</th>\n",
       "      <th>duration</th>\n",
       "      <th>director_facebook_likes</th>\n",
       "      <th>actor_3_facebook_likes</th>\n",
       "      <th>actor_2_name</th>\n",
       "      <th>actor_1_facebook_likes</th>\n",
       "      <th>gross</th>\n",
       "      <th>genres</th>\n",
       "      <th>...</th>\n",
       "      <th>num_user_for_reviews</th>\n",
       "      <th>language</th>\n",
       "      <th>country</th>\n",
       "      <th>content_rating</th>\n",
       "      <th>budget</th>\n",
       "      <th>title_year</th>\n",
       "      <th>actor_2_facebook_likes</th>\n",
       "      <th>imdb_score</th>\n",
       "      <th>aspect_ratio</th>\n",
       "      <th>movie_facebook_likes</th>\n",
       "    </tr>\n",
       "  </thead>\n",
       "  <tbody>\n",
       "    <tr>\n",
       "      <th>0</th>\n",
       "      <td>Color</td>\n",
       "      <td>James Cameron</td>\n",
       "      <td>723.0</td>\n",
       "      <td>178.0</td>\n",
       "      <td>6900.0</td>\n",
       "      <td>3900.0</td>\n",
       "      <td>Zoe Saldana</td>\n",
       "      <td>5300.0</td>\n",
       "      <td>760505847.0</td>\n",
       "      <td>Action|Adventure|Fantasy|Sci-Fi</td>\n",
       "      <td>...</td>\n",
       "      <td>3054.0</td>\n",
       "      <td>English</td>\n",
       "      <td>USA</td>\n",
       "      <td>PG-13</td>\n",
       "      <td>237000000.0</td>\n",
       "      <td>2009.0</td>\n",
       "      <td>8200.0</td>\n",
       "      <td>7.9</td>\n",
       "      <td>1.78</td>\n",
       "      <td>33000.0</td>\n",
       "    </tr>\n",
       "    <tr>\n",
       "      <th>1</th>\n",
       "      <td>Color</td>\n",
       "      <td>Gore Verbinski</td>\n",
       "      <td>302.0</td>\n",
       "      <td>169.0</td>\n",
       "      <td>565.0</td>\n",
       "      <td>5000.0</td>\n",
       "      <td>Geoffrey Rush</td>\n",
       "      <td>40000.0</td>\n",
       "      <td>309404152.0</td>\n",
       "      <td>Action|Adventure|Fantasy</td>\n",
       "      <td>...</td>\n",
       "      <td>1238.0</td>\n",
       "      <td>English</td>\n",
       "      <td>USA</td>\n",
       "      <td>PG-13</td>\n",
       "      <td>300000000.0</td>\n",
       "      <td>2007.0</td>\n",
       "      <td>2900.0</td>\n",
       "      <td>7.1</td>\n",
       "      <td>2.35</td>\n",
       "      <td>5200.0</td>\n",
       "    </tr>\n",
       "    <tr>\n",
       "      <th>2</th>\n",
       "      <td>Color</td>\n",
       "      <td>Sam Mendes</td>\n",
       "      <td>602.0</td>\n",
       "      <td>148.0</td>\n",
       "      <td>2200.0</td>\n",
       "      <td>1700.0</td>\n",
       "      <td>Christoph Waltz</td>\n",
       "      <td>8300.0</td>\n",
       "      <td>200074175.0</td>\n",
       "      <td>Action|Adventure|Thriller</td>\n",
       "      <td>...</td>\n",
       "      <td>994.0</td>\n",
       "      <td>English</td>\n",
       "      <td>UK</td>\n",
       "      <td>PG-13</td>\n",
       "      <td>245000000.0</td>\n",
       "      <td>2015.0</td>\n",
       "      <td>11000.0</td>\n",
       "      <td>6.8</td>\n",
       "      <td>2.35</td>\n",
       "      <td>86000.0</td>\n",
       "    </tr>\n",
       "    <tr>\n",
       "      <th>3</th>\n",
       "      <td>Color</td>\n",
       "      <td>Christopher Nolan</td>\n",
       "      <td>813.0</td>\n",
       "      <td>164.0</td>\n",
       "      <td>22000.0</td>\n",
       "      <td>27000.0</td>\n",
       "      <td>Gary Oldman</td>\n",
       "      <td>23000.0</td>\n",
       "      <td>448130642.0</td>\n",
       "      <td>Action|Thriller</td>\n",
       "      <td>...</td>\n",
       "      <td>2701.0</td>\n",
       "      <td>English</td>\n",
       "      <td>USA</td>\n",
       "      <td>PG-13</td>\n",
       "      <td>250000000.0</td>\n",
       "      <td>2012.0</td>\n",
       "      <td>10000.0</td>\n",
       "      <td>8.5</td>\n",
       "      <td>2.35</td>\n",
       "      <td>164000.0</td>\n",
       "    </tr>\n",
       "    <tr>\n",
       "      <th>4</th>\n",
       "      <td>NaN</td>\n",
       "      <td>J.J. Abrams</td>\n",
       "      <td>NaN</td>\n",
       "      <td>NaN</td>\n",
       "      <td>14000.0</td>\n",
       "      <td>2000.0</td>\n",
       "      <td>Mark Hamill</td>\n",
       "      <td>11000.0</td>\n",
       "      <td>NaN</td>\n",
       "      <td>Documentary</td>\n",
       "      <td>...</td>\n",
       "      <td>NaN</td>\n",
       "      <td>NaN</td>\n",
       "      <td>NaN</td>\n",
       "      <td>NaN</td>\n",
       "      <td>NaN</td>\n",
       "      <td>NaN</td>\n",
       "      <td>4400.0</td>\n",
       "      <td>7.1</td>\n",
       "      <td>NaN</td>\n",
       "      <td>263000.0</td>\n",
       "    </tr>\n",
       "  </tbody>\n",
       "</table>\n",
       "<p>5 rows × 28 columns</p>\n",
       "</div>"
      ],
      "text/plain": [
       "   color      director_name  num_critic_for_reviews  duration  \\\n",
       "0  Color      James Cameron                   723.0     178.0   \n",
       "1  Color     Gore Verbinski                   302.0     169.0   \n",
       "2  Color         Sam Mendes                   602.0     148.0   \n",
       "3  Color  Christopher Nolan                   813.0     164.0   \n",
       "4    NaN        J.J. Abrams                     NaN       NaN   \n",
       "\n",
       "   director_facebook_likes  actor_3_facebook_likes     actor_2_name  \\\n",
       "0                   6900.0                  3900.0      Zoe Saldana   \n",
       "1                    565.0                  5000.0    Geoffrey Rush   \n",
       "2                   2200.0                  1700.0  Christoph Waltz   \n",
       "3                  22000.0                 27000.0      Gary Oldman   \n",
       "4                  14000.0                  2000.0      Mark Hamill   \n",
       "\n",
       "   actor_1_facebook_likes        gross                           genres  \\\n",
       "0                  5300.0  760505847.0  Action|Adventure|Fantasy|Sci-Fi   \n",
       "1                 40000.0  309404152.0         Action|Adventure|Fantasy   \n",
       "2                  8300.0  200074175.0        Action|Adventure|Thriller   \n",
       "3                 23000.0  448130642.0                  Action|Thriller   \n",
       "4                 11000.0          NaN                      Documentary   \n",
       "\n",
       "          ...          num_user_for_reviews language  country  content_rating  \\\n",
       "0         ...                        3054.0  English      USA           PG-13   \n",
       "1         ...                        1238.0  English      USA           PG-13   \n",
       "2         ...                         994.0  English       UK           PG-13   \n",
       "3         ...                        2701.0  English      USA           PG-13   \n",
       "4         ...                           NaN      NaN      NaN             NaN   \n",
       "\n",
       "        budget  title_year actor_2_facebook_likes imdb_score  aspect_ratio  \\\n",
       "0  237000000.0      2009.0                 8200.0        7.9          1.78   \n",
       "1  300000000.0      2007.0                 2900.0        7.1          2.35   \n",
       "2  245000000.0      2015.0                11000.0        6.8          2.35   \n",
       "3  250000000.0      2012.0                10000.0        8.5          2.35   \n",
       "4          NaN         NaN                 4400.0        7.1           NaN   \n",
       "\n",
       "  movie_facebook_likes  \n",
       "0              33000.0  \n",
       "1               5200.0  \n",
       "2              86000.0  \n",
       "3             164000.0  \n",
       "4             263000.0  \n",
       "\n",
       "[5 rows x 28 columns]"
      ]
     },
     "execution_count": 6,
     "metadata": {},
     "output_type": "execute_result"
    }
   ],
   "source": [
    "data=pd.read_csv(\"movie_metadata_new.csv\")\n",
    "data.head()"
   ]
  },
  {
   "cell_type": "code",
   "execution_count": 7,
   "metadata": {
    "collapsed": false
   },
   "outputs": [
    {
     "data": {
      "text/plain": [
       "'USA'"
      ]
     },
     "execution_count": 7,
     "metadata": {},
     "output_type": "execute_result"
    }
   ],
   "source": [
    "obj_col=['language','country','content_rating']\n",
    "\n",
    "data[obj_col[1]].value_counts().index[0]"
   ]
  },
  {
   "cell_type": "code",
   "execution_count": 8,
   "metadata": {
    "collapsed": false
   },
   "outputs": [],
   "source": [
    "def fill_non_num_mode(df,obj_col):\n",
    "    for col in obj_col:\n",
    "        mode=df[col].value_counts().index[0]\n",
    "        df[col]=df[col].fillna(mode)\n",
    "    return df\n",
    "\n",
    "# return only n-1 col\n",
    "def get_dummy_and_append(numeric_df,non_numeric_df):\n",
    "    for col in non_numeric_df.columns:\n",
    "        dummy_df=pd.get_dummies(non_numeric_df[col]).ix[:,0:-1]\n",
    "        numeric_df=pd.concat([numeric_df, dummy_df], axis=1)\n",
    "    return numeric_df\n",
    "\n",
    "def split_data(x_data,y_data,size=0.1):\n",
    "    return train_test_split(x_data,y_data,test_size=size)\n",
    "\n",
    "# score_type accpet R^2, abs error\n",
    "def train_eval_model(model,x_train,y_train,x_test,y_test,score_type=\"R^2\"):\n",
    "    model.fit(X=x_train,y=y_train)\n",
    "    predicted_y_train = model.predict(x_train)\n",
    "    predicted_y_test = model.predict(x_test)\n",
    "    if score_type==\"R^2\":\n",
    "        return [r2_score(y_train,predicted_y_train),r2_score(y_test,predicted_y_test)]\n",
    "    elif score_type=='abs_error':\n",
    "        return [mean_absolute_error(y_train,predicted_y_train),mean_absolute_error(y_test,predicted_y_test)]"
   ]
  },
  {
   "cell_type": "code",
   "execution_count": 9,
   "metadata": {
    "collapsed": true
   },
   "outputs": [],
   "source": [
    "obj_col=['language','country','content_rating']\n",
    "data=fill_non_num_mode(data,obj_col)"
   ]
  },
  {
   "cell_type": "code",
   "execution_count": 10,
   "metadata": {
    "collapsed": false
   },
   "outputs": [],
   "source": [
    "numeric_data=data.select_dtypes(exclude=['object'])"
   ]
  },
  {
   "cell_type": "code",
   "execution_count": 11,
   "metadata": {
    "collapsed": false
   },
   "outputs": [],
   "source": [
    "score=numeric_data['imdb_score']\n",
    "numeric_data=numeric_data.drop(['imdb_score'],axis=1)"
   ]
  },
  {
   "cell_type": "code",
   "execution_count": 12,
   "metadata": {
    "collapsed": false
   },
   "outputs": [],
   "source": [
    "imp = Imputer(missing_values=\"NaN\",strategy=\"mean\",axis=0)      #default values\n",
    "numeric_data[numeric_data.columns]=imp.fit_transform(numeric_data)"
   ]
  },
  {
   "cell_type": "code",
   "execution_count": 13,
   "metadata": {
    "collapsed": false
   },
   "outputs": [],
   "source": [
    "scaler = StandardScaler()\n",
    "numeric_data[numeric_data.columns] = scaler.fit_transform(numeric_data[numeric_data.columns])"
   ]
  },
  {
   "cell_type": "code",
   "execution_count": 14,
   "metadata": {
    "collapsed": true
   },
   "outputs": [],
   "source": [
    "final_data=get_dummy_and_append(numeric_data,data[obj_col])"
   ]
  },
  {
   "cell_type": "code",
   "execution_count": 15,
   "metadata": {
    "collapsed": true
   },
   "outputs": [],
   "source": [
    "low_covariance_1 = []\n",
    "low_covariance_2 = []\n",
    "low_covariance_15 = []\n",
    "low_covariance_2g = []\n",
    "for x in final_data.columns:\n",
    "    z = (np.corrcoef(final_data[x],y=score))\n",
    "    if(np.fabs(z[0,1]) < 0.1):\n",
    "        low_covariance_1.append(x)\n",
    "    elif(np.fabs(z[0,1]) < 0.15):\n",
    "        low_covariance_15.append(x)\n",
    "    elif(np.fabs(z[0,1])<0.2):\n",
    "        low_covariance_2.append(x)\n",
    "    else:\n",
    "        low_covariance_2g.append(x)"
   ]
  },
  {
   "cell_type": "code",
   "execution_count": 16,
   "metadata": {
    "collapsed": false,
    "scrolled": true
   },
   "outputs": [
    {
     "name": "stdout",
     "output_type": "stream",
     "text": [
      "['num_critic_for_reviews', 'duration', 'director_facebook_likes', 'num_voted_users', 'num_user_for_reviews', 'title_year', 'movie_facebook_likes'] \n",
      "['gross'] \n",
      "['actor_1_facebook_likes', 'English', 'UK', 'USA', 'PG-13', 'TV-MA'] \n",
      "['actor_3_facebook_likes', 'cast_total_facebook_likes', 'facenumber_in_poster', 'budget', 'actor_2_facebook_likes', 'aspect_ratio', 'Aboriginal', 'Arabic', 'Aramaic', 'Bosnian', 'Cantonese', 'Chinese', 'Czech', 'Danish', 'Dari', 'Dutch', 'Dzongkha', 'Filipino', 'French', 'German', 'Greek', 'Hebrew', 'Hindi', 'Hungarian', 'Icelandic', 'Indonesian', 'Italian', 'Japanese', 'Kannada', 'Kazakh', 'Korean', 'Mandarin', 'Maya', 'Mongolian', 'None', 'Norwegian', 'Panjabi', 'Persian', 'Polish', 'Portuguese', 'Romanian', 'Russian', 'Slovenian', 'Spanish', 'Swahili', 'Swedish', 'Tamil', 'Telugu', 'Thai', 'Urdu', 'Vietnamese', 'Afghanistan', 'Argentina', 'Aruba', 'Australia', 'Bahamas', 'Belgium', 'Brazil', 'Bulgaria', 'Cambodia', 'Cameroon', 'Canada', 'Chile', 'China', 'Colombia', 'Czech Republic', 'Denmark', 'Dominican Republic', 'Egypt', 'Finland', 'France', 'Georgia', 'Germany', 'Greece', 'Hong Kong', 'Hungary', 'Iceland', 'India', 'Indonesia', 'Iran', 'Ireland', 'Israel', 'Italy', 'Japan', 'Kenya', 'Kyrgyzstan', 'Libya', 'Mexico', 'Netherlands', 'New Line', 'New Zealand', 'Nigeria', 'Norway', 'Official site', 'Pakistan', 'Panama', 'Peru', 'Philippines', 'Poland', 'Romania', 'Russia', 'Slovakia', 'Slovenia', 'South Africa', 'South Korea', 'Soviet Union', 'Spain', 'Sweden', 'Switzerland', 'Taiwan', 'Thailand', 'Turkey', 'United Arab Emirates', 'Approved', 'G', 'GP', 'M', 'NC-17', 'Not Rated', 'PG', 'Passed', 'R', 'TV-14', 'TV-G', 'TV-PG', 'TV-Y', 'TV-Y7', 'Unrated']\n"
     ]
    }
   ],
   "source": [
    "print low_covariance_2g, \"\\n\", low_covariance_2, \"\\n\", low_covariance_15, \"\\n\", low_covariance_1"
   ]
  },
  {
   "cell_type": "code",
   "execution_count": 17,
   "metadata": {
    "collapsed": true
   },
   "outputs": [],
   "source": [
    "final_col=['num_critic_for_reviews', 'duration', 'director_facebook_likes', 'num_voted_users', 'num_user_for_reviews', 'title_year', 'movie_facebook_likes','gross','actor_1_facebook_likes', 'English', 'UK', 'USA', 'PG-13', 'TV-MA', 'cast_total_facebook_likes', 'budget', 'actor_2_facebook_likes']"
   ]
  },
  {
   "cell_type": "code",
   "execution_count": 18,
   "metadata": {
    "collapsed": true
   },
   "outputs": [],
   "source": [
    "final_data=final_data[final_col]"
   ]
  },
  {
   "cell_type": "code",
   "execution_count": 19,
   "metadata": {
    "collapsed": false
   },
   "outputs": [],
   "source": [
    "training_x,test_x,training_Y,test_y = split_data(final_data,score)"
   ]
  },
  {
   "cell_type": "code",
   "execution_count": 20,
   "metadata": {
    "collapsed": false
   },
   "outputs": [],
   "source": [
    "# svr with diff kernel\n",
    "svr_linear_model = LinearSVR()\n",
    "svr_model = SVR(kernel='rbf') #default\n",
    "svr_poly_model = SVR(kernel=\"poly\") #default degree is 3\n",
    "\n",
    "# knn with diff n, uniform\n",
    "default_knn = KNeighborsRegressor(n_neighbors=5#,weights='distance')\n",
    "knn_10 = KNeighborsRegressor(n_neighbors=10)#,weights='distance')\n",
    "knn_20 = KNeighborsRegressor(n_neighbors=20)#,weights='distance')\n",
    "# knn with diff n, distance\n",
    "#distance"
   ]
  },
  {
   "cell_type": "code",
   "execution_count": 21,
   "metadata": {
    "collapsed": false
   },
   "outputs": [],
   "source": [
    "model_list=[svr_linear_model,svr_model,svr_poly_model,default_knn,knn_10,knn_20]"
   ]
  },
  {
   "cell_type": "code",
   "execution_count": 22,
   "metadata": {
    "collapsed": false
   },
   "outputs": [
    {
     "name": "stdout",
     "output_type": "stream",
     "text": [
      "('LinearSVR', ' training error', '0.685994716388')\n",
      "('LinearSVR', ' testing error', '0.657552658166')\n",
      "('SVR', ' training error', '0.560693814473')\n",
      "('SVR', ' testing error', '0.562957341418')\n",
      "('SVR', ' training error', '0.633551031749')\n",
      "('SVR', ' testing error', '0.645355270442')\n",
      "('KNeighborsRegressor', ' training error', '0.551432349052')\n",
      "('KNeighborsRegressor', ' testing error', '0.642178217822')\n",
      "('KNeighborsRegressor', ' training error', '0.60530850595')\n",
      "('KNeighborsRegressor', ' testing error', '0.635940594059')\n",
      "('KNeighborsRegressor', ' training error', '0.640866020273')\n",
      "('KNeighborsRegressor', ' testing error', '0.647673267327')\n"
     ]
    }
   ],
   "source": [
    "for model in model_list:\n",
    "    temp=train_eval_model(model,training_x,training_Y,test_x,test_y,score_type=\"abs_error\")\n",
    "    model_name=re.search('(.*)\\(',str(model)).group(1)\n",
    "    print(str(model_name),\" training error\", str(temp[0]))\n",
    "    print(str(model_name),\" testing error\", str(temp[1]))"
   ]
  },
  {
   "cell_type": "code",
   "execution_count": 27,
   "metadata": {
    "collapsed": false
   },
   "outputs": [],
   "source": [
    "train_error_list=[]\n",
    "test_error_list=[]\n",
    "train_error_list2=[]\n",
    "test_error_list2=[]\n",
    "\n",
    "for i in range(2,100,1):\n",
    "    model = KNeighborsRegressor(n_neighbors=i)#,weights='distance')\n",
    "    temp=train_eval_model(model,training_x,training_Y,test_x,test_y,score_type=\"abs_error\")\n",
    "    train_error_list.append(temp[0])\n",
    "    test_error_list.append(temp[1])\n",
    "    \n",
    "    model = KNeighborsRegressor(n_neighbors=i,weights='distance')\n",
    "    temp=train_eval_model(model,training_x,training_Y,test_x,test_y,score_type=\"abs_error\")\n",
    "    train_error_list2.append(temp[0])\n",
    "    test_error_list2.append(temp[1])\n"
   ]
  },
  {
   "cell_type": "code",
   "execution_count": 28,
   "metadata": {
    "collapsed": false
   },
   "outputs": [
    {
     "data": {
      "text/plain": [
       "<matplotlib.text.Text at 0x11708d350>"
      ]
     },
     "execution_count": 28,
     "metadata": {},
     "output_type": "execute_result"
    },
    {
     "data": {
      "image/png": "[encoded data removed]",
      "text/plain": [
       "<matplotlib.figure.Figure at 0x11816ef90>"
      ]
     },
     "metadata": {},
     "output_type": "display_data"
    }
   ],
   "source": [
    "sns.set_style(\"whitegrid\")\n",
    "line1,=plt.plot(np.linspace(2,99,98),train_error_list,'r',label='uniform(train)')\n",
    "line2,=plt.plot(np.linspace(2,99,98),test_error_list,'g',label='uniform(test)')\n",
    "\n",
    "plt.legend(handles=[line1,line2],loc=4)\n",
    "plt.xlabel('# of nearest neighbor')\n",
    "plt.ylabel('mean absolute error')\n"
   ]
  },
  {
   "cell_type": "code",
   "execution_count": 29,
   "metadata": {
    "collapsed": false
   },
   "outputs": [
    {
     "data": {
      "text/plain": [
       "<matplotlib.text.Text at 0x11762a410>"
      ]
     },
     "execution_count": 29,
     "metadata": {},
     "output_type": "execute_result"
    },
    {
     "data": {
      "image/png": "[encoded data removed]",
      "text/plain": [
       "<matplotlib.figure.Figure at 0x117db02d0>"
      ]
     },
     "metadata": {},
     "output_type": "display_data"
    }
   ],
   "source": [
    "sns.set_style(\"whitegrid\")\n",
    "line1,=plt.plot(np.linspace(2,99,98),train_error_list,'r',label='uniform(train)')\n",
    "line2,=plt.plot(np.linspace(2,99,98),test_error_list,'g',label='uniform(test)')\n",
    "line3,=plt.plot(np.linspace(2,99,98),train_error_list2,'b',label='distance(train)')\n",
    "line4,=plt.plot(np.linspace(2,99,98),test_error_list2,'y',label='distance(test)')\n",
    "         \n",
    "plt.legend(handles=[line1,line2,line3,line4],loc=4)\n",
    "plt.xlabel('# of nearest neighbor')\n",
    "plt.ylabel('mean absolute error')\n"
   ]
  },
  {
   "cell_type": "code",
   "execution_count": 26,
   "metadata": {
    "collapsed": false
   },
   "outputs": [
    {
     "ename": "NameError",
     "evalue": "name 'predicted_y' is not defined",
     "output_type": "error",
     "traceback": [
      "\u001b[0;31m---------------------------------------------------------------------------\u001b[0m",
      "\u001b[0;31mNameError\u001b[0m                                 Traceback (most recent call last)",
      "\u001b[0;32m<ipython-input-26-ff9294a26223>\u001b[0m in \u001b[0;36m<module>\u001b[0;34m()\u001b[0m\n\u001b[0;32m----> 1\u001b[0;31m \u001b[0msns\u001b[0m\u001b[0;34m.\u001b[0m\u001b[0mdistplot\u001b[0m\u001b[0;34m(\u001b[0m\u001b[0mpredicted_y\u001b[0m\u001b[0;34m,\u001b[0m\u001b[0mhist\u001b[0m\u001b[0;34m=\u001b[0m\u001b[0mTrue\u001b[0m\u001b[0;34m,\u001b[0m\u001b[0mrug\u001b[0m\u001b[0;34m=\u001b[0m\u001b[0mTrue\u001b[0m\u001b[0;34m,\u001b[0m\u001b[0mcolor\u001b[0m\u001b[0;34m=\u001b[0m\u001b[0;34m\"red\"\u001b[0m\u001b[0;34m)\u001b[0m\u001b[0;34m.\u001b[0m\u001b[0mlegend\u001b[0m\u001b[0;34m(\u001b[0m\u001b[0;34m)\u001b[0m\u001b[0;34m\u001b[0m\u001b[0m\n\u001b[0m\u001b[1;32m      2\u001b[0m \u001b[0msns\u001b[0m\u001b[0;34m.\u001b[0m\u001b[0mdistplot\u001b[0m\u001b[0;34m(\u001b[0m\u001b[0mtest_y\u001b[0m\u001b[0;34m,\u001b[0m\u001b[0mhist\u001b[0m\u001b[0;34m=\u001b[0m\u001b[0mTrue\u001b[0m\u001b[0;34m,\u001b[0m\u001b[0mrug\u001b[0m\u001b[0;34m=\u001b[0m\u001b[0mTrue\u001b[0m\u001b[0;34m,\u001b[0m\u001b[0mcolor\u001b[0m\u001b[0;34m=\u001b[0m\u001b[0;34m\"green\"\u001b[0m\u001b[0;34m)\u001b[0m\u001b[0;34m.\u001b[0m\u001b[0mlegend\u001b[0m\u001b[0;34m(\u001b[0m\u001b[0;34m)\u001b[0m\u001b[0;34m\u001b[0m\u001b[0m\n",
      "\u001b[0;31mNameError\u001b[0m: name 'predicted_y' is not defined"
     ]
    }
   ],
   "source": [
    "sns.distplot(predicted_y,hist=True,rug=True,color=\"red\").legend()\n",
    "sns.distplot(test_y,hist=True,rug=True,color=\"green\").legend()"
   ]
  },
  {
   "cell_type": "code",
   "execution_count": null,
   "metadata": {
    "collapsed": true
   },
   "outputs": [],
   "source": []
  }
 ],
 "metadata": {
  "anaconda-cloud": {},
  "kernelspec": {
   "display_name": "Python [python2]",
   "language": "python",
   "name": "Python [python2]"
  },
  "language_info": {
   "codemirror_mode": {
    "name": "ipython",
    "version": 2
   },
   "file_extension": ".py",
   "mimetype": "text/x-python",
   "name": "python",
   "nbconvert_exporter": "python",
   "pygments_lexer": "ipython2",
   "version": "2.7.12"
  }
 },
 "nbformat": 4,
 "nbformat_minor": 0
}
