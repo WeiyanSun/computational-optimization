{
 "cells": [
  {
   "cell_type": "code",
   "execution_count": 1,
   "metadata": {
    "collapsed": false
   },
   "outputs": [
    {
     "name": "stderr",
     "output_type": "stream",
     "text": [
      "/Users/weiyansun/anaconda/envs/python2/lib/python2.7/site-packages/sklearn/cross_validation.py:44: DeprecationWarning: This module was deprecated in version 0.18 in favor of the model_selection module into which all the refactored classes and functions are moved. Also note that the interface of the new CV iterators are different from that of this module. This module will be removed in 0.20.\n",
      "  \"This module will be removed in 0.20.\", DeprecationWarning)\n",
      "/Users/weiyansun/anaconda/envs/python2/lib/python2.7/site-packages/matplotlib/font_manager.py:273: UserWarning: Matplotlib is building the font cache using fc-list. This may take a moment.\n",
      "  warnings.warn('Matplotlib is building the font cache using fc-list. This may take a moment.')\n"
     ]
    }
   ],
   "source": [
    "from function_for_prediction import *\n",
    "import numpy as np\n",
    "import pandas as pd\n",
    "from sklearn.preprocessing import Imputer,StandardScaler\n",
    "from scipy.stats.stats import pearsonr\n",
    "from sklearn.feature_selection import SelectKBest,SelectPercentile,RFE,RFECV,SelectFromModel\n",
    "from sklearn.svm import SVR,SVC\n",
    "from sklearn.linear_model import Lasso\n",
    "from sklearn.svm import LinearSVR\n",
    "from sklearn.cross_validation import train_test_split\n",
    "from sklearn.neighbors import KNeighborsRegressor\n",
    "from sklearn.metrics import mean_absolute_error\n",
    "from sklearn.metrics import r2_score\n",
    "import seaborn as sns\n",
    "import re\n",
    "import matplotlib.pyplot as plt\n",
    "import matplotlib\n",
    "from sklearn.ensemble import AdaBoostRegressor\n",
    "from sklearn.linear_model import LinearRegression,Ridge\n",
    "from sklearn.ensemble import RandomForestRegressor\n",
    "%matplotlib inline\n"
   ]
  },
  {
   "cell_type": "code",
   "execution_count": 2,
   "metadata": {
    "collapsed": true
   },
   "outputs": [],
   "source": [
    "def fill_non_num_mode(df,obj_col):\n",
    "    for col in obj_col:\n",
    "        mode=df[col].value_counts().index[0]\n",
    "        df[col]=df[col].fillna(mode)\n",
    "    return df\n",
    "\n",
    "# return only n-1 col\n",
    "def get_dummy_and_append(numeric_df,non_numeric_df):\n",
    "    for col in non_numeric_df.columns:\n",
    "        dummy_df=pd.get_dummies(non_numeric_df[col]).ix[:,0:-1]\n",
    "        numeric_df=pd.concat([numeric_df, dummy_df], axis=1)\n",
    "    return numeric_df\n",
    "\n",
    "def split_data(x_data,y_data,size=0.1):\n",
    "    return train_test_split(x_data,y_data,test_size=size)\n",
    "\n",
    "# score_type accpet R^2, abs error\n",
    "def train_eval_model(model,x_train,y_train,x_test,y_test,score_type=\"R^2\"):\n",
    "    model.fit(X=x_train,y=y_train)\n",
    "    predicted_y_train = model.predict(x_train)\n",
    "    predicted_y_test = model.predict(x_test)\n",
    "    if score_type==\"R^2\":\n",
    "        return [r2_score(y_train,predicted_y_train),r2_score(y_test,predicted_y_test)]\n",
    "    elif score_type=='abs_error':\n",
    "        return [mean_absolute_error(y_train,predicted_y_train),mean_absolute_error(y_test,predicted_y_test)]\n",
    "    \n",
    "def cov_analysis(final_data,target):\n",
    "    low_covariance_1 = []\n",
    "    low_covariance_2 = []\n",
    "    low_covariance_15 = []\n",
    "    low_covariance_2g = []\n",
    "    for x in final_data.columns:\n",
    "        z = (np.corrcoef(final_data[x],y=target))\n",
    "        if(np.fabs(z[0,1]) < 0.1):\n",
    "            low_covariance_1.append(x)\n",
    "        elif(np.fabs(z[0,1]) < 0.15):\n",
    "            low_covariance_15.append(x)\n",
    "        elif(np.fabs(z[0,1])<0.2):\n",
    "            low_covariance_2.append(x)\n",
    "        else:\n",
    "            low_covariance_2g.append(x)\n",
    "    return [low_covariance_1,low_covariance_15,low_covariance_2,low_covariance_2g]"
   ]
  },
  {
   "cell_type": "code",
   "execution_count": 3,
   "metadata": {
    "collapsed": false
   },
   "outputs": [
    {
     "data": {
      "text/plain": [
       "Index([u'color', u'director_name', u'num_critic_for_reviews', u'duration',\n",
       "       u'director_facebook_likes', u'actor_3_facebook_likes', u'actor_2_name',\n",
       "       u'actor_1_facebook_likes', u'gross', u'genres', u'actor_1_name',\n",
       "       u'movie_title', u'num_voted_users', u'cast_total_facebook_likes',\n",
       "       u'actor_3_name', u'facenumber_in_poster', u'plot_keywords',\n",
       "       u'movie_imdb_link', u'num_user_for_reviews', u'language', u'country',\n",
       "       u'content_rating', u'budget', u'title_year', u'actor_2_facebook_likes',\n",
       "       u'imdb_score', u'aspect_ratio', u'movie_facebook_likes'],\n",
       "      dtype='object')"
      ]
     },
     "execution_count": 3,
     "metadata": {},
     "output_type": "execute_result"
    }
   ],
   "source": [
    "data=pd.read_csv(\"movie_metadata_new.csv\")\n",
    "data.columns"
   ]
  },
  {
   "cell_type": "code",
   "execution_count": 4,
   "metadata": {
    "collapsed": false
   },
   "outputs": [],
   "source": [
    "data.dropna(subset=[\"gross\"],inplace=True)"
   ]
  },
  {
   "cell_type": "code",
   "execution_count": 5,
   "metadata": {
    "collapsed": false
   },
   "outputs": [],
   "source": [
    "## model for gross\n",
    "\n",
    "# data preprocessing, select some str variable and fill na with mode\n",
    "obj_col=['language','country','content_rating']\n",
    "data=fill_non_num_mode(data,obj_col)\n",
    "\n",
    "# select only numeric variable\n",
    "\n",
    "numeric_data=data.select_dtypes(exclude=['object'])\n",
    "\n",
    "# make our goal: imdb score a single vector\n",
    "score=numeric_data['gross']\n",
    "numeric_data=numeric_data.drop(['gross'],axis=1)\n",
    "\n",
    "\n",
    "# fillna with mean and normalize the feature.after this combine with dummy variable.\n",
    "imp = Imputer(missing_values=\"NaN\",strategy=\"mean\",axis=0)      #default values\n",
    "numeric_data[numeric_data.columns]=imp.fit_transform(numeric_data)\n",
    "scaler = StandardScaler()\n",
    "numeric_data[numeric_data.columns] = scaler.fit_transform(numeric_data[numeric_data.columns])\n",
    "\n",
    "# add dummies to numeric_data and get our final data\n",
    "final_data=get_dummy_and_append(numeric_data,data[obj_col])"
   ]
  },
  {
   "cell_type": "code",
   "execution_count": 6,
   "metadata": {
    "collapsed": false
   },
   "outputs": [
    {
     "name": "stdout",
     "output_type": "stream",
     "text": [
      "['num_critic_for_reviews', 'duration', 'actor_3_facebook_likes', 'actor_1_facebook_likes', 'num_voted_users', 'cast_total_facebook_likes', 'num_user_for_reviews', 'actor_2_facebook_likes', 'movie_facebook_likes', 'R'] \n",
      "['director_facebook_likes', 'imdb_score', 'English', 'USA', 'PG-13'] \n",
      "['budget', 'PG'] \n",
      "['facenumber_in_poster', 'title_year', 'aspect_ratio', 'Aboriginal', 'Arabic', 'Aramaic', 'Bosnian', 'Cantonese', 'Chinese', 'Czech', 'Danish', 'Dari', 'Dutch', 'Dzongkha', 'Filipino', 'French', 'German', 'Greek', 'Hebrew', 'Hindi', 'Hungarian', 'Icelandic', 'Indonesian', 'Italian', 'Japanese', 'Kazakh', 'Korean', 'Mandarin', 'Maya', 'Mongolian', 'None', 'Norwegian', 'Persian', 'Polish', 'Portuguese', 'Romanian', 'Russian', 'Spanish', 'Swedish', 'Telugu', 'Thai', 'Vietnamese', 'Afghanistan', 'Argentina', 'Aruba', 'Australia', 'Belgium', 'Brazil', 'Cameroon', 'Canada', 'Chile', 'China', 'Colombia', 'Czech Republic', 'Denmark', 'Finland', 'France', 'Georgia', 'Germany', 'Greece', 'Hong Kong', 'Hungary', 'Iceland', 'India', 'Indonesia', 'Iran', 'Ireland', 'Israel', 'Italy', 'Japan', 'Mexico', 'Netherlands', 'New Line', 'New Zealand', 'Norway', 'Official site', 'Peru', 'Philippines', 'Poland', 'Romania', 'Russia', 'South Africa', 'South Korea', 'Spain', 'Sweden', 'Taiwan', 'Thailand', 'UK', 'Approved', 'G', 'GP', 'M', 'NC-17', 'Not Rated', 'Passed', 'TV-MA', 'Unrated']\n"
     ]
    }
   ],
   "source": [
    "cov=cov_analysis(final_data,score)\n",
    "print cov[-1], \"\\n\", cov[-2], \"\\n\", cov[1], \"\\n\", cov[0]"
   ]
  },
  {
   "cell_type": "code",
   "execution_count": 7,
   "metadata": {
    "collapsed": true
   },
   "outputs": [],
   "source": [
    "# select final col by cov_analysis\n",
    "final_col=['num_critic_for_reviews', 'duration', 'actor_3_facebook_likes', 'actor_1_facebook_likes', 'num_voted_users', 'cast_total_facebook_likes', 'num_user_for_reviews', 'actor_2_facebook_likes', 'movie_facebook_likes', 'R','director_facebook_likes', 'imdb_score', 'English', 'USA', 'PG-13','budget', 'PG'] \n",
    "final_data=final_data[final_col]"
   ]
  },
  {
   "cell_type": "code",
   "execution_count": 11,
   "metadata": {
    "collapsed": true
   },
   "outputs": [],
   "source": [
    "# svr with diff kernel\n",
    "svr_linear_model = LinearSVR()\n",
    "svr_model = SVR(kernel='rbf') #default\n",
    "svr_poly_model = SVR(kernel=\"poly\") #default degree is 3\n",
    "\n",
    "# knn with diff n, uniform\n",
    "default_knn = KNeighborsRegressor(n_neighbors=5)#,weights='distance')\n",
    "knn_10 = KNeighborsRegressor(n_neighbors=10,weights='distance')\n",
    "knn_20 = KNeighborsRegressor(n_neighbors=20)#,weights='distance')\n",
    "# knn with diff n, distance\n",
    "#distance\n",
    "\n",
    "lr=LinearRegression()\n",
    "rf=RandomForestRegressor()\n",
    "rg=Ridge()\n",
    "adaboost=AdaBoostRegressor()"
   ]
  },
  {
   "cell_type": "code",
   "execution_count": 9,
   "metadata": {
    "collapsed": true
   },
   "outputs": [],
   "source": [
    "training_x,test_x,training_Y,test_y = split_data(final_data,score)"
   ]
  },
  {
   "cell_type": "code",
   "execution_count": 33,
   "metadata": {
    "collapsed": true
   },
   "outputs": [],
   "source": [
    "np.log?"
   ]
  },
  {
   "cell_type": "code",
   "execution_count": 34,
   "metadata": {
    "collapsed": false
   },
   "outputs": [
    {
     "data": {
      "text/plain": [
       "1.0174773134581847"
      ]
     },
     "execution_count": 34,
     "metadata": {},
     "output_type": "execute_result"
    }
   ],
   "source": [
    "rf=RandomForestRegressor(n_estimators=10, criterion='mae',max_features=None)\n",
    "train_eval_model(rf,training_x,np.log(training_Y),test_x,np.log(test_y),score_type=\"abs_error\")[1]\n",
    "    "
   ]
  },
  {
   "cell_type": "code",
   "execution_count": 31,
   "metadata": {
    "collapsed": false,
    "scrolled": false
   },
   "outputs": [
    {
     "data": {
      "text/plain": [
       "<matplotlib.axes._subplots.AxesSubplot at 0xdd03b6410>"
      ]
     },
     "execution_count": 31,
     "metadata": {},
     "output_type": "execute_result"
    },
    {
     "data": {
      "image/png": "[encoded data removed]",
      "text/plain": [
       "<matplotlib.figure.Figure at 0xb74ce95d0>"
      ]
     },
     "metadata": {},
     "output_type": "display_data"
    }
   ],
   "source": [
    "np.exp(rf.predict(test_x))\n",
    "\n",
    "sns.distplot(,hist=True,color=\"red\")\n",
    "sns.distplot(test_y,hist=True,color=\"green\")"
   ]
  },
  {
   "cell_type": "code",
   "execution_count": 40,
   "metadata": {
    "collapsed": false
   },
   "outputs": [
    {
     "data": {
      "text/plain": [
       "2185.3993173330186"
      ]
     },
     "execution_count": 40,
     "metadata": {},
     "output_type": "execute_result"
    }
   ],
   "source": [
    "(abs(test_y-np.exp(rf.predict(test_x)))/test_y)"
   ]
  },
  {
   "cell_type": "code",
   "execution_count": 36,
   "metadata": {
    "collapsed": false
   },
   "outputs": [
    {
     "data": {
      "text/plain": [
       "13.944182912847044"
      ]
     },
     "execution_count": 36,
     "metadata": {},
     "output_type": "execute_result"
    }
   ],
   "source": [
    "sum(abs(test_y-np.exp(rf.predict(test_x)))/test_y)/len(test_y)"
   ]
  },
  {
   "cell_type": "code",
   "execution_count": 17,
   "metadata": {
    "collapsed": false
   },
   "outputs": [
    {
     "data": {
      "text/plain": [
       "26483547.32887019"
      ]
     },
     "execution_count": 17,
     "metadata": {},
     "output_type": "execute_result"
    }
   ],
   "source": [
    "test_y.mean()-21752422.31536058"
   ]
  },
  {
   "cell_type": "code",
   "execution_count": 13,
   "metadata": {
    "collapsed": false
   },
   "outputs": [
    {
     "name": "stdout",
     "output_type": "stream",
     "text": [
      "('LinearSVR', ' testing error', '48225696.5518')\n",
      "('SVR', ' testing error', '40695646.241')\n",
      "('SVR', ' testing error', '40695219.7404')\n",
      "('KNeighborsRegressor', ' testing error', '25258910.9717')\n",
      "('LinearRegression', ' testing error', '30219066.2287')\n",
      "('RandomForestRegressor', ' testing error', '22646513.5579')\n",
      "('Ridge', ' testing error', '30214737.1731')\n",
      "('AdaBoostRegressor', ' testing error', '56452029.4349')\n"
     ]
    }
   ],
   "source": [
    "model_list=[svr_linear_model,svr_model,svr_poly_model,knn_10,lr,rf,rg,adaboost]\n",
    "for model in model_list:\n",
    "    temp=train_eval_model(model,training_x,training_Y,test_x,test_y,score_type=\"abs_error\")\n",
    "    model_name=re.search('(.*)\\(',str(model)).group(1)\n",
    "    #print(str(model_name),\" training error\", str(temp[0]))\n",
    "    print(str(model_name),\" testing error\", str(temp[1]))"
   ]
  },
  {
   "cell_type": "code",
   "execution_count": null,
   "metadata": {
    "collapsed": true
   },
   "outputs": [],
   "source": [
    "index=list(test_x.index)\n",
    "predict_df=data.loc[index,[\"movie_title\",\"imdb_score\",'gross']]\n",
    "predict_df['predict']=predicted_y_test\n"
   ]
  },
  {
   "cell_type": "code",
   "execution_count": null,
   "metadata": {
    "collapsed": false
   },
   "outputs": [],
   "source": [
    "predict_y_test_knn=knn_10.predict(test_x)\n",
    "predicted_y_test_rf=rf.predict(test_x)\n",
    "predicted_y_test_rg=rg.predict(test_x)\n",
    "predicted_y_test=predicted_y_test_rf*0.8+predict_y_test_knn*0.2\n",
    "sum(abs(predicted_y_test-test_y))/len(predicted_y_test)"
   ]
  }
 ],
 "metadata": {
  "anaconda-cloud": {},
  "kernelspec": {
   "display_name": "Python [python2]",
   "language": "python",
   "name": "Python [python2]"
  },
  "language_info": {
   "codemirror_mode": {
    "name": "ipython",
    "version": 2
   },
   "file_extension": ".py",
   "mimetype": "text/x-python",
   "name": "python",
   "nbconvert_exporter": "python",
   "pygments_lexer": "ipython2",
   "version": "2.7.12"
  }
 },
 "nbformat": 4,
 "nbformat_minor": 0
}
