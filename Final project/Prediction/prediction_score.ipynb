{
 "cells": [
  {
   "cell_type": "code",
   "execution_count": 1,
   "metadata": {
    "collapsed": false
   },
   "outputs": [
    {
     "name": "stderr",
     "output_type": "stream",
     "text": [
      "/Users/weiyansun/anaconda/envs/python2/lib/python2.7/site-packages/sklearn/cross_validation.py:44: DeprecationWarning: This module was deprecated in version 0.18 in favor of the model_selection module into which all the refactored classes and functions are moved. Also note that the interface of the new CV iterators are different from that of this module. This module will be removed in 0.20.\n",
      "  \"This module will be removed in 0.20.\", DeprecationWarning)\n",
      "/Users/weiyansun/anaconda/envs/python2/lib/python2.7/site-packages/matplotlib/font_manager.py:273: UserWarning: Matplotlib is building the font cache using fc-list. This may take a moment.\n",
      "  warnings.warn('Matplotlib is building the font cache using fc-list. This may take a moment.')\n"
     ]
    }
   ],
   "source": [
    "from function_for_prediction import *\n",
    "import numpy as np\n",
    "import pandas as pd\n",
    "from sklearn.preprocessing import Imputer,StandardScaler\n",
    "from scipy.stats.stats import pearsonr\n",
    "from sklearn.feature_selection import SelectKBest,SelectPercentile,RFE,RFECV,SelectFromModel\n",
    "from sklearn.svm import SVR,SVC\n",
    "from sklearn.linear_model import Lasso\n",
    "from sklearn.svm import LinearSVR\n",
    "from sklearn.cross_validation import train_test_split\n",
    "from sklearn.neighbors import KNeighborsRegressor\n",
    "from sklearn.metrics import mean_absolute_error\n",
    "from sklearn.metrics import r2_score\n",
    "import seaborn as sns\n",
    "import re\n",
    "import matplotlib.pyplot as plt\n",
    "import matplotlib\n",
    "from sklearn.ensemble import AdaBoostRegressor\n",
    "from sklearn.linear_model import LinearRegression,Ridge\n",
    "from sklearn.ensemble import RandomForestRegressor\n",
    "from sklearn.neural_network import MLPRegressor\n",
    "%matplotlib inline\n"
   ]
  },
  {
   "cell_type": "code",
   "execution_count": 50,
   "metadata": {
    "collapsed": false
   },
   "outputs": [],
   "source": [
    "KNeighborsRegressor?"
   ]
  },
  {
   "cell_type": "code",
   "execution_count": 2,
   "metadata": {
    "collapsed": false,
    "scrolled": true
   },
   "outputs": [
    {
     "data": {
      "text/html": [
       "<div>\n",
       "<table border=\"1\" class=\"dataframe\">\n",
       "  <thead>\n",
       "    <tr style=\"text-align: right;\">\n",
       "      <th></th>\n",
       "      <th>color</th>\n",
       "      <th>director_name</th>\n",
       "      <th>num_critic_for_reviews</th>\n",
       "      <th>duration</th>\n",
       "      <th>director_facebook_likes</th>\n",
       "      <th>actor_3_facebook_likes</th>\n",
       "      <th>actor_2_name</th>\n",
       "      <th>actor_1_facebook_likes</th>\n",
       "      <th>gross</th>\n",
       "      <th>genres</th>\n",
       "      <th>...</th>\n",
       "      <th>num_user_for_reviews</th>\n",
       "      <th>language</th>\n",
       "      <th>country</th>\n",
       "      <th>content_rating</th>\n",
       "      <th>budget</th>\n",
       "      <th>title_year</th>\n",
       "      <th>actor_2_facebook_likes</th>\n",
       "      <th>imdb_score</th>\n",
       "      <th>aspect_ratio</th>\n",
       "      <th>movie_facebook_likes</th>\n",
       "    </tr>\n",
       "  </thead>\n",
       "  <tbody>\n",
       "    <tr>\n",
       "      <th>0</th>\n",
       "      <td>Color</td>\n",
       "      <td>James Cameron</td>\n",
       "      <td>723.0</td>\n",
       "      <td>178.0</td>\n",
       "      <td>6900.0</td>\n",
       "      <td>3900.0</td>\n",
       "      <td>Zoe Saldana</td>\n",
       "      <td>5300.0</td>\n",
       "      <td>760505847.0</td>\n",
       "      <td>Action|Adventure|Fantasy|Sci-Fi</td>\n",
       "      <td>...</td>\n",
       "      <td>3054.0</td>\n",
       "      <td>English</td>\n",
       "      <td>USA</td>\n",
       "      <td>PG-13</td>\n",
       "      <td>237000000.0</td>\n",
       "      <td>2009.0</td>\n",
       "      <td>8200.0</td>\n",
       "      <td>7.9</td>\n",
       "      <td>1.78</td>\n",
       "      <td>33000.0</td>\n",
       "    </tr>\n",
       "    <tr>\n",
       "      <th>1</th>\n",
       "      <td>Color</td>\n",
       "      <td>Gore Verbinski</td>\n",
       "      <td>302.0</td>\n",
       "      <td>169.0</td>\n",
       "      <td>565.0</td>\n",
       "      <td>5000.0</td>\n",
       "      <td>Geoffrey Rush</td>\n",
       "      <td>40000.0</td>\n",
       "      <td>309404152.0</td>\n",
       "      <td>Action|Adventure|Fantasy</td>\n",
       "      <td>...</td>\n",
       "      <td>1238.0</td>\n",
       "      <td>English</td>\n",
       "      <td>USA</td>\n",
       "      <td>PG-13</td>\n",
       "      <td>300000000.0</td>\n",
       "      <td>2007.0</td>\n",
       "      <td>2900.0</td>\n",
       "      <td>7.1</td>\n",
       "      <td>2.35</td>\n",
       "      <td>5200.0</td>\n",
       "    </tr>\n",
       "    <tr>\n",
       "      <th>2</th>\n",
       "      <td>Color</td>\n",
       "      <td>Sam Mendes</td>\n",
       "      <td>602.0</td>\n",
       "      <td>148.0</td>\n",
       "      <td>2200.0</td>\n",
       "      <td>1700.0</td>\n",
       "      <td>Christoph Waltz</td>\n",
       "      <td>8300.0</td>\n",
       "      <td>200074175.0</td>\n",
       "      <td>Action|Adventure|Thriller</td>\n",
       "      <td>...</td>\n",
       "      <td>994.0</td>\n",
       "      <td>English</td>\n",
       "      <td>UK</td>\n",
       "      <td>PG-13</td>\n",
       "      <td>245000000.0</td>\n",
       "      <td>2015.0</td>\n",
       "      <td>11000.0</td>\n",
       "      <td>6.8</td>\n",
       "      <td>2.35</td>\n",
       "      <td>86000.0</td>\n",
       "    </tr>\n",
       "    <tr>\n",
       "      <th>3</th>\n",
       "      <td>Color</td>\n",
       "      <td>Christopher Nolan</td>\n",
       "      <td>813.0</td>\n",
       "      <td>164.0</td>\n",
       "      <td>22000.0</td>\n",
       "      <td>27000.0</td>\n",
       "      <td>Gary Oldman</td>\n",
       "      <td>23000.0</td>\n",
       "      <td>448130642.0</td>\n",
       "      <td>Action|Thriller</td>\n",
       "      <td>...</td>\n",
       "      <td>2701.0</td>\n",
       "      <td>English</td>\n",
       "      <td>USA</td>\n",
       "      <td>PG-13</td>\n",
       "      <td>250000000.0</td>\n",
       "      <td>2012.0</td>\n",
       "      <td>10000.0</td>\n",
       "      <td>8.5</td>\n",
       "      <td>2.35</td>\n",
       "      <td>164000.0</td>\n",
       "    </tr>\n",
       "    <tr>\n",
       "      <th>4</th>\n",
       "      <td>NaN</td>\n",
       "      <td>J.J. Abrams</td>\n",
       "      <td>NaN</td>\n",
       "      <td>NaN</td>\n",
       "      <td>14000.0</td>\n",
       "      <td>2000.0</td>\n",
       "      <td>Mark Hamill</td>\n",
       "      <td>11000.0</td>\n",
       "      <td>NaN</td>\n",
       "      <td>Documentary</td>\n",
       "      <td>...</td>\n",
       "      <td>NaN</td>\n",
       "      <td>NaN</td>\n",
       "      <td>NaN</td>\n",
       "      <td>NaN</td>\n",
       "      <td>NaN</td>\n",
       "      <td>NaN</td>\n",
       "      <td>4400.0</td>\n",
       "      <td>7.1</td>\n",
       "      <td>NaN</td>\n",
       "      <td>263000.0</td>\n",
       "    </tr>\n",
       "  </tbody>\n",
       "</table>\n",
       "<p>5 rows × 28 columns</p>\n",
       "</div>"
      ],
      "text/plain": [
       "   color      director_name  num_critic_for_reviews  duration  \\\n",
       "0  Color      James Cameron                   723.0     178.0   \n",
       "1  Color     Gore Verbinski                   302.0     169.0   \n",
       "2  Color         Sam Mendes                   602.0     148.0   \n",
       "3  Color  Christopher Nolan                   813.0     164.0   \n",
       "4    NaN        J.J. Abrams                     NaN       NaN   \n",
       "\n",
       "   director_facebook_likes  actor_3_facebook_likes     actor_2_name  \\\n",
       "0                   6900.0                  3900.0      Zoe Saldana   \n",
       "1                    565.0                  5000.0    Geoffrey Rush   \n",
       "2                   2200.0                  1700.0  Christoph Waltz   \n",
       "3                  22000.0                 27000.0      Gary Oldman   \n",
       "4                  14000.0                  2000.0      Mark Hamill   \n",
       "\n",
       "   actor_1_facebook_likes        gross                           genres  \\\n",
       "0                  5300.0  760505847.0  Action|Adventure|Fantasy|Sci-Fi   \n",
       "1                 40000.0  309404152.0         Action|Adventure|Fantasy   \n",
       "2                  8300.0  200074175.0        Action|Adventure|Thriller   \n",
       "3                 23000.0  448130642.0                  Action|Thriller   \n",
       "4                 11000.0          NaN                      Documentary   \n",
       "\n",
       "          ...          num_user_for_reviews language  country  content_rating  \\\n",
       "0         ...                        3054.0  English      USA           PG-13   \n",
       "1         ...                        1238.0  English      USA           PG-13   \n",
       "2         ...                         994.0  English       UK           PG-13   \n",
       "3         ...                        2701.0  English      USA           PG-13   \n",
       "4         ...                           NaN      NaN      NaN             NaN   \n",
       "\n",
       "        budget  title_year actor_2_facebook_likes imdb_score  aspect_ratio  \\\n",
       "0  237000000.0      2009.0                 8200.0        7.9          1.78   \n",
       "1  300000000.0      2007.0                 2900.0        7.1          2.35   \n",
       "2  245000000.0      2015.0                11000.0        6.8          2.35   \n",
       "3  250000000.0      2012.0                10000.0        8.5          2.35   \n",
       "4          NaN         NaN                 4400.0        7.1           NaN   \n",
       "\n",
       "  movie_facebook_likes  \n",
       "0              33000.0  \n",
       "1               5200.0  \n",
       "2              86000.0  \n",
       "3             164000.0  \n",
       "4             263000.0  \n",
       "\n",
       "[5 rows x 28 columns]"
      ]
     },
     "execution_count": 2,
     "metadata": {},
     "output_type": "execute_result"
    }
   ],
   "source": [
    "data=pd.read_csv(\"movie_metadata_new.csv\")\n",
    "data.head()"
   ]
  },
  {
   "cell_type": "code",
   "execution_count": 51,
   "metadata": {
    "collapsed": false
   },
   "outputs": [],
   "source": [
    "## model for score\n",
    "\n",
    "# data preprocessing, select some str variable and fill na with mode\n",
    "obj_col=['language','country','content_rating']\n",
    "data=fill_non_num_mode(data,obj_col)\n",
    "\n",
    "# select only numeric variable\n",
    "\n",
    "numeric_data=data.select_dtypes(exclude=['object'])\n",
    "\n",
    "# make our goal: imdb score a single vector\n",
    "score=numeric_data['imdb_score']\n",
    "numeric_data=numeric_data.drop(['imdb_score'],axis=1)\n",
    "\n",
    "\n",
    "# fillna with mean and normalize the feature.after this combine with dummy variable.\n",
    "imp = Imputer(missing_values=\"NaN\",strategy=\"mean\",axis=0)      #default values\n",
    "numeric_data[numeric_data.columns]=imp.fit_transform(numeric_data)\n",
    "scaler = StandardScaler()\n",
    "numeric_data[numeric_data.columns] = scaler.fit_transform(numeric_data[numeric_data.columns])\n",
    "\n",
    "# add dummies to numeric_data and get our final data\n",
    "final_data=get_dummy_and_append(numeric_data,data[obj_col])"
   ]
  },
  {
   "cell_type": "code",
   "execution_count": 53,
   "metadata": {
    "collapsed": true
   },
   "outputs": [],
   "source": [
    "plt.plot?"
   ]
  },
  {
   "cell_type": "code",
   "execution_count": 52,
   "metadata": {
    "collapsed": false
   },
   "outputs": [
    {
     "ename": "NameError",
     "evalue": "name 'low_covariance_2g' is not defined",
     "output_type": "error",
     "traceback": [
      "\u001b[0;31m---------------------------------------------------------------------------\u001b[0m",
      "\u001b[0;31mNameError\u001b[0m                                 Traceback (most recent call last)",
      "\u001b[0;32m<ipython-input-52-e7ba838bc374>\u001b[0m in \u001b[0;36m<module>\u001b[0;34m()\u001b[0m\n\u001b[0;32m----> 1\u001b[0;31m \u001b[0;32mprint\u001b[0m \u001b[0mlow_covariance_2g\u001b[0m\u001b[0;34m,\u001b[0m \u001b[0;34m\"\\n\"\u001b[0m\u001b[0;34m,\u001b[0m \u001b[0mlow_covariance_2\u001b[0m\u001b[0;34m,\u001b[0m \u001b[0;34m\"\\n\"\u001b[0m\u001b[0;34m,\u001b[0m \u001b[0mlow_covariance_15\u001b[0m\u001b[0;34m,\u001b[0m \u001b[0;34m\"\\n\"\u001b[0m\u001b[0;34m,\u001b[0m \u001b[0mlow_covariance_1\u001b[0m\u001b[0;34m\u001b[0m\u001b[0m\n\u001b[0m",
      "\u001b[0;31mNameError\u001b[0m: name 'low_covariance_2g' is not defined"
     ]
    }
   ],
   "source": [
    "print low_covariance_2g, \"\\n\", low_covariance_2, \"\\n\", low_covariance_15, \"\\n\", low_covariance_1"
   ]
  },
  {
   "cell_type": "code",
   "execution_count": 4,
   "metadata": {
    "collapsed": false
   },
   "outputs": [],
   "source": [
    "# select final col by cov_analysis\n",
    "final_col=['num_critic_for_reviews', 'duration', 'director_facebook_likes', 'num_voted_users', 'num_user_for_reviews', 'title_year', 'movie_facebook_likes','gross','actor_1_facebook_likes', 'English', 'UK', 'USA', 'PG-13', 'TV-MA', 'cast_total_facebook_likes', 'budget', 'actor_2_facebook_likes']\n",
    "final_data=final_data[final_col]"
   ]
  },
  {
   "cell_type": "code",
   "execution_count": 33,
   "metadata": {
    "collapsed": false
   },
   "outputs": [],
   "source": [
    "training_x,test_x,training_Y,test_y = split_data(final_data,score)"
   ]
  },
  {
   "cell_type": "code",
   "execution_count": 29,
   "metadata": {
    "collapsed": false
   },
   "outputs": [],
   "source": [
    "# svr with diff kernel\n",
    "svr_linear_model = LinearSVR()\n",
    "svr_model = SVR(kernel='rbf') #default\n",
    "svr_poly_model = SVR(kernel=\"poly\") #default degree is 3\n",
    "\n",
    "# knn with diff n, uniform\n",
    "default_knn = KNeighborsRegressor(n_neighbors=5)#,weights='distance')\n",
    "knn_10 = KNeighborsRegressor(n_neighbors=10,weights='distance')\n",
    "knn_20 = KNeighborsRegressor(n_neighbors=20)#,weights='distance')\n",
    "# knn with diff n, distance\n",
    "#distance\n",
    "\n",
    "lr=LinearRegression()\n",
    "rf=RandomForestRegressor()\n",
    "rg=Ridge()\n",
    "adaboost=AdaBoostRegressor()"
   ]
  },
  {
   "cell_type": "code",
   "execution_count": 34,
   "metadata": {
    "collapsed": false
   },
   "outputs": [
    {
     "name": "stdout",
     "output_type": "stream",
     "text": [
      "('LinearSVR', ' testing error', '0.674994297094')\n",
      "('SVR', ' testing error', '0.571777389613')\n",
      "('SVR', ' testing error', '0.670977184182')\n",
      "('KNeighborsRegressor', ' testing error', '0.649386908135')\n",
      "('LinearRegression', ' testing error', '0.674631227921')\n",
      "('RandomForestRegressor', ' testing error', '0.557052475248')\n",
      "('Ridge', ' testing error', '0.674503516319')\n",
      "('AdaBoostRegressor', ' testing error', '0.968470351148')\n"
     ]
    }
   ],
   "source": [
    "model_list=[svr_linear_model,svr_model,svr_poly_model,knn_10,lr,rf,rg,adaboost]\n",
    "for model in model_list:\n",
    "    temp=train_eval_model(model,training_x,training_Y,test_x,test_y,score_type=\"mse\")\n",
    "    model_name=re.search('(.*)\\(',str(model)).group(1)\n",
    "    #print(str(model_name),\" training error\", str(temp[0]))\n",
    "    print(str(model_name),\" testing error\", str(temp[1]))"
   ]
  },
  {
   "cell_type": "code",
   "execution_count": 36,
   "metadata": {
    "collapsed": true
   },
   "outputs": [],
   "source": [
    "train_test_split?"
   ]
  },
  {
   "cell_type": "code",
   "execution_count": 31,
   "metadata": {
    "collapsed": false
   },
   "outputs": [],
   "source": [
    "train_error_list=[]\n",
    "test_error_list=[]\n",
    "train_error_list2=[]\n",
    "test_error_list2=[]\n",
    "\n",
    "for i in range(2,40,1):\n",
    "    model = KNeighborsRegressor(n_neighbors=i)#,weights='distance')\n",
    "    temp=train_eval_model(model,training_x,training_Y,test_x,test_y,score_type=\"abs_error\")\n",
    "    train_error_list.append(temp[0])\n",
    "    test_error_list.append(temp[1])\n",
    "    \n",
    "    model = KNeighborsRegressor(n_neighbors=i,weights='distance')\n",
    "    temp=train_eval_model(model,training_x,training_Y,test_x,test_y,score_type=\"abs_error\")\n",
    "    train_error_list2.append(temp[0])\n",
    "    test_error_list2.append(temp[1])\n"
   ]
  },
  {
   "cell_type": "code",
   "execution_count": 32,
   "metadata": {
    "collapsed": false
   },
   "outputs": [
    {
     "data": {
      "text/plain": [
       "<matplotlib.text.Text at 0x117f19710>"
      ]
     },
     "execution_count": 32,
     "metadata": {},
     "output_type": "execute_result"
    },
    {
     "data": {
      "image/png": "[encoded data removed]",
      "text/plain": [
       "<matplotlib.figure.Figure at 0x117e47650>"
      ]
     },
     "metadata": {},
     "output_type": "display_data"
    }
   ],
   "source": [
    "sns.set_style(\"whitegrid\")\n",
    "line1,=plt.plot(np.linspace(2,39,38),train_error_list,'r',label='uniform(training error)')\n",
    "line2,=plt.plot(np.linspace(2,39,38),test_error_list,'g',label='uniform(testing error)')\n",
    "\n",
    "plt.legend(handles=[line1,line2],loc=4)\n",
    "plt.xlabel('# of nearest neighbor')\n",
    "plt.ylabel('mean absolute error')\n"
   ]
  },
  {
   "cell_type": "code",
   "execution_count": 27,
   "metadata": {
    "collapsed": false,
    "scrolled": false
   },
   "outputs": [
    {
     "data": {
      "text/plain": [
       "<matplotlib.text.Text at 0x117f41750>"
      ]
     },
     "execution_count": 27,
     "metadata": {},
     "output_type": "execute_result"
    },
    {
     "data": {
      "image/png": "[encoded data removed]",
      "text/plain": [
       "<matplotlib.figure.Figure at 0x11b8e9a90>"
      ]
     },
     "metadata": {},
     "output_type": "display_data"
    }
   ],
   "source": [
    "sns.set_style(\"whitegrid\")\n",
    "line1,=plt.plot(np.linspace(2,39,38),train_error_list,'r',label='uniform(training error)')\n",
    "line2,=plt.plot(np.linspace(2,39,38),test_error_list,'g',label='uniform(testing error)')\n",
    "line3,=plt.plot(np.linspace(2,39,38),train_error_list2,'b',label='distance(training error)')\n",
    "line4,=plt.plot(np.linspace(2,39,38),test_error_list2,'y',label='distance(testing error)')\n",
    "         \n",
    "plt.legend(handles=[line1,line2,line3,line4],loc=4)\n",
    "plt.xlabel('# of nearest neighbor')\n",
    "plt.ylabel('mean absolute error')\n"
   ]
  },
  {
   "cell_type": "code",
   "execution_count": 47,
   "metadata": {
    "collapsed": true
   },
   "outputs": [],
   "source": [
    "RandomForestRegressor?"
   ]
  },
  {
   "cell_type": "code",
   "execution_count": 93,
   "metadata": {
    "collapsed": false
   },
   "outputs": [
    {
     "data": {
      "text/plain": [
       "<matplotlib.legend.Legend at 0x121398090>"
      ]
     },
     "execution_count": 93,
     "metadata": {},
     "output_type": "execute_result"
    },
    {
     "data": {
      "image/png": "[encoded data removed]",
      "text/plain": [
       "<matplotlib.figure.Figure at 0x11fcecdd0>"
      ]
     },
     "metadata": {},
     "output_type": "display_data"
    }
   ],
   "source": [
    "sns.distplot(knn_10.predict(test_x),hist=True,color=\"red\")\n",
    "sns.distplot(test_y,hist=True,color=\"green\")\n",
    "sns.plt.title('Hist of prediction by knn and true value')\n",
    "sns.plt.legend(['knn prediction','true value'])\n"
   ]
  },
  {
   "cell_type": "code",
   "execution_count": 37,
   "metadata": {
    "collapsed": false
   },
   "outputs": [
    {
     "data": {
      "text/plain": [
       "0.52619372827454225"
      ]
     },
     "execution_count": 37,
     "metadata": {},
     "output_type": "execute_result"
    }
   ],
   "source": [
    "predict_y_test_knn=knn_10.predict(test_x)\n",
    "predicted_y_test_rf=rf.predict(test_x)\n",
    "predicted_y_test=predicted_y_test_rf*0.8+predict_y_test_knn*0.2\n",
    "sum((predicted_y_test-test_y)**2)/len(predicted_y_test)"
   ]
  },
  {
   "cell_type": "code",
   "execution_count": 95,
   "metadata": {
    "collapsed": false
   },
   "outputs": [
    {
     "data": {
      "text/plain": [
       "<matplotlib.legend.Legend at 0x122211290>"
      ]
     },
     "execution_count": 95,
     "metadata": {},
     "output_type": "execute_result"
    },
    {
     "data": {
      "image/png": "[encoded data removed]",
      "text/plain": [
       "<matplotlib.figure.Figure at 0x11e3704d0>"
      ]
     },
     "metadata": {},
     "output_type": "display_data"
    }
   ],
   "source": [
    "sns.distplot(rf.predict(test_x),hist=True,color=\"red\")\n",
    "sns.distplot(test_y,hist=True,color=\"green\")\n",
    "sns.plt.title('Hist of prediction by random forest and true value')\n",
    "sns.plt.legend(['random forest prediction','true value'])\n"
   ]
  },
  {
   "cell_type": "code",
   "execution_count": 96,
   "metadata": {
    "collapsed": false,
    "scrolled": true
   },
   "outputs": [],
   "source": [
    "index=list(test_x.index)\n",
    "predict_df=data.loc[index,[\"movie_title\",\"imdb_score\"]]\n",
    "predict_df['predict']=predicted_y_test"
   ]
  },
  {
   "cell_type": "code",
   "execution_count": 99,
   "metadata": {
    "collapsed": false,
    "scrolled": false
   },
   "outputs": [
    {
     "name": "stderr",
     "output_type": "stream",
     "text": [
      "/Users/weiyansun/anaconda/envs/python2/lib/python2.7/site-packages/ipykernel/__main__.py:1: FutureWarning: sort(columns=....) is deprecated, use sort_values(by=.....)\n",
      "  if __name__ == '__main__':\n"
     ]
    }
   ],
   "source": [
    "predict_df.sort(\"imdb_score\",ascending=False).to_csv('prediction_result',index=False)"
   ]
  },
  {
   "cell_type": "code",
   "execution_count": 38,
   "metadata": {
    "collapsed": true
   },
   "outputs": [],
   "source": [
    "second_train=pd.DataFrame({'rf':rf.predict(training_x),\"rg\":rg.predict(training_x),'knn':knn_10.predict(training_x),'svr':svr_model.predict(training_x)})"
   ]
  },
  {
   "cell_type": "code",
   "execution_count": 39,
   "metadata": {
    "collapsed": true
   },
   "outputs": [],
   "source": [
    "second_test=pd.DataFrame({'rf':rf.predict(test_x),\"rg\":rg.predict(test_x),'knn':knn_10.predict(test_x),'svr':svr_model.predict(test_x)})"
   ]
  },
  {
   "cell_type": "code",
   "execution_count": 40,
   "metadata": {
    "collapsed": false
   },
   "outputs": [],
   "source": [
    "final_lr=LinearRegression()\n",
    "final_nn=MLPRegressor()\n",
    "final_boost=AdaBoostRegressor()"
   ]
  },
  {
   "cell_type": "code",
   "execution_count": 43,
   "metadata": {
    "collapsed": false
   },
   "outputs": [
    {
     "data": {
      "text/plain": [
       "[0.86274567804466906, 0.67463122792068431]"
      ]
     },
     "execution_count": 43,
     "metadata": {},
     "output_type": "execute_result"
    }
   ],
   "source": [
    "train_eval_model(final_lr,training_x,training_Y,test_x,test_y,score_type=\"mse\")"
   ]
  },
  {
   "cell_type": "code",
   "execution_count": 44,
   "metadata": {
    "collapsed": false
   },
   "outputs": [
    {
     "data": {
      "text/plain": [
       "[0.0088224527637891115, 0.65572943634958702]"
      ]
     },
     "execution_count": 44,
     "metadata": {},
     "output_type": "execute_result"
    }
   ],
   "source": [
    "train_eval_model(final_boost,second_train,training_Y,second_test,test_y,score_type=\"mse\")"
   ]
  },
  {
   "cell_type": "code",
   "execution_count": null,
   "metadata": {
    "collapsed": true
   },
   "outputs": [],
   "source": []
  }
 ],
 "metadata": {
  "anaconda-cloud": {},
  "kernelspec": {
   "display_name": "Python [python2]",
   "language": "python",
   "name": "Python [python2]"
  },
  "language_info": {
   "codemirror_mode": {
    "name": "ipython",
    "version": 2
   },
   "file_extension": ".py",
   "mimetype": "text/x-python",
   "name": "python",
   "nbconvert_exporter": "python",
   "pygments_lexer": "ipython2",
   "version": "2.7.12"
  }
 },
 "nbformat": 4,
 "nbformat_minor": 0
}
